{
 "cells": [
  {
   "cell_type": "code",
   "execution_count": null,
   "id": "c0ae753b",
   "metadata": {},
   "outputs": [],
   "source": [
    "!pip install pandas scikit-learn bertopic umap-learn spacy tqdm nltk sentence-transformers datasets"
   ]
  },
  {
   "cell_type": "code",
   "execution_count": null,
   "id": "13e798c7",
   "metadata": {},
   "outputs": [],
   "source": [
    "!python -m spacy download pl_core_news_sm"
   ]
  },
  {
   "cell_type": "code",
   "execution_count": null,
   "id": "efd53f00",
   "metadata": {},
   "outputs": [],
   "source": [
    "\n",
    "import pandas as pd\n",
    "from tqdm import tqdm\n",
    "import re\n",
    "import spacy\n",
    "from sklearn.feature_extraction.text import CountVectorizer\n",
    "from bertopic import BERTopic\n",
    "from bertopic.backend import BaseEmbedder\n",
    "from umap import UMAP\n",
    "from sentence_transformers import SentenceTransformer\n",
    "import pickle\n",
    "from datasets import Dataset\n",
    "    "
   ]
  },
  {
   "cell_type": "code",
   "execution_count": null,
   "id": "36be0555",
   "metadata": {},
   "outputs": [],
   "source": [
    "\n",
    "# Configurations\n",
    "POLISH_STOPWORDS = [\n",
    "    'i', 'oraz', 'a', 'ale', 'w', 'na', 'z', 'do', 'się', 'o', 'że', 'to', 'co', 'nie', 'jest', 'jak', 'tak', 'czy',\n",
    "    'być', 'by', 'dla', 'czyli', 'ten', 'ona', 'on', 'my', 'oni', 'jeśli', 'gdy', 'za', 'tylko', 'po', 'przez', 'pod',\n",
    "    'bez', 'nad', 'jeszcze', 'już', 'też', 'tam', 'tu', 'u', 'od', 'ze', 'jestem', 'są', 'jesteśmy', 'jesteś', 'was',\n",
    "    'czyż', 'albo', 'mnie', 'tobie', 'tobą', 'wam', 'może', 'muszę', 'mogę', 'będzie', 'będą', 'był', 'była', 'było',\n",
    "    'byli', 'były', 'mam', 'masz', 'mamy', 'macie', 'ich', 'je', 'jemu', 'jej', 'jego', 'ich', 'imię', 'im'\n",
    "]\n",
    "    "
   ]
  },
  {
   "cell_type": "code",
   "execution_count": null,
   "id": "7cf7c8ec",
   "metadata": {},
   "outputs": [],
   "source": [
    "\n",
    "# Preprocessing functions\n",
    "def preprocess_text(text):\n",
    "    text = re.sub(r'[^\\w\\s]', '', text)\n",
    "    nlp = spacy.load(\"pl_core_news_sm\")\n",
    "    doc = nlp(text)\n",
    "    tokens = [token.lemma_ for token in doc if not token.is_stop and token.is_alpha]\n",
    "    return ' '.join(tokens)\n",
    "\n",
    "def split_text(text, max_length=100):\n",
    "    words = text.split()\n",
    "    return [' '.join(words[i:i + max_length]) for i in range(0, len(words), max_length)]\n",
    "    "
   ]
  },
  {
   "cell_type": "code",
   "execution_count": null,
   "id": "28c33063",
   "metadata": {},
   "outputs": [],
   "source": [
    "\n",
    "# Load data\n",
    "def load_data(file_path):\n",
    "    with open(file_path, 'rb') as file:\n",
    "        data = pickle.load(file)\n",
    "    data_list = [{\"id\": key, \"full_text\": value[\"full text\"]} for key, value in data.items()]\n",
    "    dataset = Dataset.from_dict({\"id\": [item[\"id\"] for item in data_list], \"full_text\": [item[\"full_text\"] for item in data_list]})\n",
    "    texts = dataset[\"full_text\"]\n",
    "    ids = dataset[\"id\"]\n",
    "    return texts, ids\n",
    "    "
   ]
  },
  {
   "cell_type": "code",
   "execution_count": null,
   "id": "414de266",
   "metadata": {},
   "outputs": [],
   "source": [
    "\n",
    "# Model creation\n",
    "class PolishEmbedder(BaseEmbedder):\n",
    "    def __init__(self, embedding_model):\n",
    "        self.embedding_model = embedding_model\n",
    "\n",
    "    def embed(self, documents, verbose=False):\n",
    "        return self.embedding_model.encode(documents, show_progress_bar=verbose)\n",
    "\n",
    "def create_topic_model():\n",
    "    sentence_model = SentenceTransformer(\"allegro/herbert-base-cased\")\n",
    "    polish_embedder = PolishEmbedder(sentence_model)\n",
    "    vectorizer_model = CountVectorizer(stop_words=POLISH_STOPWORDS, ngram_range=(1, 3))\n",
    "    umap_model = UMAP(n_neighbors=10, n_components=5, min_dist=0.1, metric='cosine')\n",
    "\n",
    "    topic_model = BERTopic(\n",
    "        embedding_model=polish_embedder,\n",
    "        vectorizer_model=vectorizer_model,\n",
    "        umap_model=umap_model,\n",
    "        top_n_words=10,\n",
    "        n_gram_range=(1, 3),\n",
    "        min_topic_size=10,\n",
    "        calculate_probabilities=True\n",
    "    )\n",
    "    return topic_model\n",
    "    "
   ]
  },
  {
   "cell_type": "code",
   "execution_count": null,
   "id": "d305ced2",
   "metadata": {},
   "outputs": [],
   "source": [
    "\n",
    "def main():\n",
    "    file_path = '/content/drive/MyDrive/Granty, współpraca naukowa/polonisci/full/polonisci_text_abstract.pickle'\n",
    "    texts, ids = load_data(file_path)\n",
    "\n",
    "    processed_texts = [preprocess_text(text) for text in tqdm(texts)]\n",
    "    split_texts = []\n",
    "    for text in processed_texts:\n",
    "        split_texts.extend(split_text(text))\n",
    "    split_texts = [text for text in split_texts if text.strip() != '']\n",
    "\n",
    "    if len(split_texts) < 2:\n",
    "        raise ValueError(\"Niewystarczająca liczba tekstów po przetwarzaniu wstępnym. Dodaj więcej danych wejściowych.\")\n",
    "\n",
    "    topic_model = create_topic_model()\n",
    "\n",
    "    try:\n",
    "        topics, probabilities = topic_model.fit_transform(split_texts)\n",
    "    except ValueError as e:\n",
    "        print(f\"Error during model fitting: {e}\")\n",
    "        print(\"Texts:\", split_texts)\n",
    "        raise\n",
    "\n",
    "    print(topic_model.get_topic_info())\n",
    "    topic_info = topic_model.get_topic_info()\n",
    "    topic_info.to_csv(\"topics_info.csv\", index=False)\n",
    "\n",
    "if __name__ == \"__main__\":\n",
    "    main()\n",
    "    "
   ]
  }
 ],
 "metadata": {},
 "nbformat": 4,
 "nbformat_minor": 5
}
